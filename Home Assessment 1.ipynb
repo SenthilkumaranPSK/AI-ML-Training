{
 "cells": [
  {
   "cell_type": "code",
   "execution_count": 1,
   "id": "a4e79e77",
   "metadata": {},
   "outputs": [],
   "source": [
    "import pandas as pd\n",
    "import sys\n",
    "import calendar"
   ]
  },
  {
   "cell_type": "code",
   "execution_count": 2,
   "id": "9ba57b6b",
   "metadata": {},
   "outputs": [],
   "source": [
    "data = [\n",
    "    \"2015-12-06 2011-12-27 2015-09-07 2012-12-21 2020-02-13 2015-06-09 2013-03-21 2012-09-22 2013-06-19 2016-03-05 2017-08-27 2012-06-24 2018-11-20 2018-05-24 2019-08-17 2018-08-22 2021-02-07 2016-09-01 2015-03-11 2011-06-30 2019-11-15 2016-11-30 2019-05-19 2012-03-26 2020-08-11 2014-09-12 2014-12-11 2013-12-16 2017-02-28 2011-04-01 2011-01-01 2017-11-25 2014-03-16 2014-06-14 2013-09-17 2020-05-13 2018-02-23 2019-02-18 2011-09-28 2016-06-03 2020-11-09 2017-05-29\",\n",
    "    \"498 721 375 464 813 853 918 422 380 403 445 665 43 281 730 39 63 560 56 901 802 3 247 863 223 510 89 813 940 800 292 289 429 241 745 796 529 9 909 495 373 397\",\n",
    "    \"22 45 1 65 22 17 12 51 37 40 36 58 0 53 33 13 39 53 18 46 68 30 37 56 3 63 40 18 40 25 36 12 39 8 32 69 21 43 10 9 31 56\",\n",
    "    \"52 56 32 50 24 61 17 0 28 39 56 33 19 10 38 14 41 7 59 1 50 8 6 10 20 19 68 46 13 1 54 2 40 66 14 39 6 51 23 20 11 68\",\n",
    "    \"63 37 68 62 43 42 56 36 50 7 20 21 44 55 10 4 18 24 27 67 59 56 17 56 45 66 21 10 27 39 64 32 8 3 1 8 1 50 33 19 6 41\"\n",
    "]"
   ]
  },
  {
   "cell_type": "code",
   "execution_count": 3,
   "id": "0cb4a01e",
   "metadata": {},
   "outputs": [],
   "source": [
    "dates = data[0].split()\n",
    "reg_ids = list(map(int, data[1].split()))\n",
    "physics = list(map(int, data[2].split()))\n",
    "chemistry = list(map(int, data[3].split()))\n",
    "maths = list(map(int, data[4].split()))"
   ]
  },
  {
   "cell_type": "code",
   "execution_count": 4,
   "id": "60891ff8",
   "metadata": {},
   "outputs": [],
   "source": [
    "df = pd.DataFrame({\n",
    "    'Date': pd.to_datetime(dates),\n",
    "    'RegID': reg_ids,\n",
    "    'Physics': physics,\n",
    "    'Chemistry': chemistry,\n",
    "    'Mathematics': maths\n",
    "})"
   ]
  },
  {
   "cell_type": "code",
   "execution_count": 5,
   "id": "31d166b2",
   "metadata": {},
   "outputs": [],
   "source": [
    "df['Month'] = df['Date'].dt.month"
   ]
  },
  {
   "cell_type": "code",
   "execution_count": 6,
   "id": "7849379a",
   "metadata": {},
   "outputs": [],
   "source": [
    "month_counts = df['Month'].value_counts()\n",
    "max_reg_count = month_counts.max()\n",
    "candidates = month_counts[month_counts == max_reg_count].index\n",
    "max_month = max(candidates) \n",
    "max_month_df = df[df['Month'] == max_month]\n",
    "avg_physics = round(max_month_df['Physics'].mean(), 2)\n",
    "avg_chemistry = round(max_month_df['Chemistry'].mean(), 2)\n",
    "avg_maths = round(max_month_df['Mathematics'].mean(), 2)"
   ]
  },
  {
   "cell_type": "code",
   "execution_count": 7,
   "id": "8dac0d9f",
   "metadata": {},
   "outputs": [
    {
     "name": "stdout",
     "output_type": "stream",
     "text": [
      "SEP 6 35.0 15.83 38.0\n"
     ]
    }
   ],
   "source": [
    "month_abbr = calendar.month_abbr[max_month].upper()\n",
    "print(month_abbr, max_reg_count, avg_physics, avg_chemistry, avg_maths)"
   ]
  },
  {
   "cell_type": "code",
   "execution_count": null,
   "id": "6be81478",
   "metadata": {},
   "outputs": [],
   "source": []
  }
 ],
 "metadata": {
  "kernelspec": {
   "display_name": "Python 3",
   "language": "python",
   "name": "python3"
  },
  "language_info": {
   "codemirror_mode": {
    "name": "ipython",
    "version": 3
   },
   "file_extension": ".py",
   "mimetype": "text/x-python",
   "name": "python",
   "nbconvert_exporter": "python",
   "pygments_lexer": "ipython3",
   "version": "3.10.11"
  }
 },
 "nbformat": 4,
 "nbformat_minor": 5
}
